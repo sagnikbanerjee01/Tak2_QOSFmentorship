{
 "cells": [
  {
   "cell_type": "code",
   "execution_count": 1,
   "metadata": {},
   "outputs": [],
   "source": [
    "import pennylane as qml\n",
    "from pennylane import numpy as np"
   ]
  },
  {
   "cell_type": "code",
   "execution_count": 2,
   "metadata": {},
   "outputs": [],
   "source": [
    "dev1 = qml.device(\"default.qubit\", wires=2)"
   ]
  },
  {
   "cell_type": "code",
   "execution_count": 3,
   "metadata": {},
   "outputs": [],
   "source": [
    "@qml.qnode(dev1)\n",
    "def circuit(params):\n",
    "    qml.RX(params[0], wires=0)\n",
    "    qml.RY(params[1], wires=1)\n",
    "    qml.CNOT(wires=[1, 0])\n",
    "    return qml.probs(wires=[0, 1])"
   ]
  },
  {
   "cell_type": "code",
   "execution_count": 6,
   "metadata": {},
   "outputs": [
    {
     "name": "stdout",
     "output_type": "stream",
     "text": [
      "[0.09543087 0.23732967 0.03587227 0.63136719]\n"
     ]
    }
   ],
   "source": [
    "print(circuit([1.1, 2.4]))\n",
    "#in the output, the probabilities of states |00>, |01>, |10>, |11> are displayed respectively"
   ]
  },
  {
   "cell_type": "code",
   "execution_count": 7,
   "metadata": {},
   "outputs": [],
   "source": [
    "def cost(x):\n",
    "    return ((circuit(x)[3]+circuit(x)[0])-(circuit(x)[1]+circuit(x)[2]))\n",
    "    \n",
    "#the cost function is so defined, such that minimization of the cost function would result in |00>=|11>=0 and |01>=|10>=0.5"
   ]
  },
  {
   "cell_type": "code",
   "execution_count": 8,
   "metadata": {},
   "outputs": [],
   "source": [
    "init_params = np.array([1.5707, 1.5707]) #initial choice of parameters is randomly taken, which would be updated after each iteration"
   ]
  },
  {
   "cell_type": "code",
   "execution_count": 9,
   "metadata": {},
   "outputs": [
    {
     "name": "stdout",
     "output_type": "stream",
     "text": [
      "Cost after step     5: -0.4665694\n",
      "Cost after step    10: -0.7706728\n",
      "Cost after step    15: -0.9128644\n",
      "Cost after step    20: -0.9686304\n",
      "Cost after step    25: -0.9889365\n",
      "Cost after step    30: -0.9961269\n",
      "Cost after step    35: -0.9986476\n",
      "Cost after step    40: -0.9995282\n",
      "Cost after step    45: -0.9998355\n",
      "Cost after step    50: -0.9999426\n",
      "Cost after step    55: -0.9999800\n",
      "Cost after step    60: -0.9999930\n",
      "Cost after step    65: -0.9999976\n",
      "Cost after step    70: -0.9999992\n",
      "Cost after step    75: -0.9999997\n",
      "Cost after step    80: -0.9999999\n",
      "Cost after step    85: -1.0000000\n",
      "Cost after step    90: -1.0000000\n",
      "Cost after step    95: -1.0000000\n",
      "Cost after step   100: -1.0000000\n",
      "Cost after step   105: -1.0000000\n",
      "Cost after step   110: -1.0000000\n",
      "Cost after step   115: -1.0000000\n",
      "Cost after step   120: -1.0000000\n",
      "Cost after step   125: -1.0000000\n",
      "Cost after step   130: -1.0000000\n",
      "Cost after step   135: -1.0000000\n",
      "Cost after step   140: -1.0000000\n",
      "Cost after step   145: -1.0000000\n",
      "Cost after step   150: -1.0000000\n",
      "Cost after step   155: -1.0000000\n",
      "Cost after step   160: -1.0000000\n",
      "Cost after step   165: -1.0000000\n",
      "Cost after step   170: -1.0000000\n",
      "Cost after step   175: -1.0000000\n",
      "Cost after step   180: -1.0000000\n",
      "Cost after step   185: -1.0000000\n",
      "Cost after step   190: -1.0000000\n",
      "Cost after step   195: -1.0000000\n",
      "Cost after step   200: -1.0000000\n",
      "Cost after step   205: -1.0000000\n",
      "Cost after step   210: -1.0000000\n",
      "Cost after step   215: -1.0000000\n",
      "Cost after step   220: -1.0000000\n",
      "Cost after step   225: -1.0000000\n",
      "Cost after step   230: -1.0000000\n",
      "Cost after step   235: -1.0000000\n",
      "Cost after step   240: -1.0000000\n",
      "Cost after step   245: -1.0000000\n",
      "Cost after step   250: -1.0000000\n",
      "Cost after step   255: -1.0000000\n",
      "Cost after step   260: -1.0000000\n",
      "Cost after step   265: -1.0000000\n",
      "Cost after step   270: -1.0000000\n",
      "Cost after step   275: -1.0000000\n",
      "Cost after step   280: -1.0000000\n",
      "Cost after step   285: -1.0000000\n",
      "Cost after step   290: -1.0000000\n",
      "Cost after step   295: -1.0000000\n",
      "Cost after step   300: -1.0000000\n",
      "Cost after step   305: -1.0000000\n",
      "Cost after step   310: -1.0000000\n",
      "Cost after step   315: -1.0000000\n",
      "Cost after step   320: -1.0000000\n",
      "Cost after step   325: -1.0000000\n",
      "Cost after step   330: -1.0000000\n",
      "Cost after step   335: -1.0000000\n",
      "Cost after step   340: -1.0000000\n",
      "Cost after step   345: -1.0000000\n",
      "Cost after step   350: -1.0000000\n",
      "Cost after step   355: -1.0000000\n",
      "Cost after step   360: -1.0000000\n",
      "Cost after step   365: -1.0000000\n",
      "Cost after step   370: -1.0000000\n",
      "Cost after step   375: -1.0000000\n",
      "Cost after step   380: -1.0000000\n",
      "Cost after step   385: -1.0000000\n",
      "Cost after step   390: -1.0000000\n",
      "Cost after step   395: -1.0000000\n",
      "Cost after step   400: -1.0000000\n",
      "Cost after step   405: -1.0000000\n",
      "Cost after step   410: -1.0000000\n",
      "Cost after step   415: -1.0000000\n",
      "Cost after step   420: -1.0000000\n",
      "Cost after step   425: -1.0000000\n",
      "Cost after step   430: -1.0000000\n",
      "Cost after step   435: -1.0000000\n",
      "Cost after step   440: -1.0000000\n",
      "Cost after step   445: -1.0000000\n",
      "Cost after step   450: -1.0000000\n",
      "Cost after step   455: -1.0000000\n",
      "Cost after step   460: -1.0000000\n",
      "Cost after step   465: -1.0000000\n",
      "Cost after step   470: -1.0000000\n",
      "Cost after step   475: -1.0000000\n",
      "Cost after step   480: -1.0000000\n",
      "Cost after step   485: -1.0000000\n",
      "Cost after step   490: -1.0000000\n",
      "Cost after step   495: -1.0000000\n",
      "Cost after step   500: -1.0000000\n",
      "Optimized rotation angles: [3.14159265 1.5707    ]\n"
     ]
    }
   ],
   "source": [
    "# initialise the optimizer\n",
    "opt = qml.GradientDescentOptimizer(stepsize=0.1)\n",
    "\n",
    "# set the number of steps\n",
    "steps = 500\n",
    "# set the initial parameter values\n",
    "params = init_params\n",
    "\n",
    "for i in range(steps):\n",
    "    # update the circuit parameters\n",
    "    params = opt.step(cost, params)\n",
    "\n",
    "    if (i + 1) % 5 == 0:\n",
    "        print(\"Cost after step {:5d}: {: .7f}\".format(i + 1, cost(params)))\n",
    "\n",
    "print(\"Optimized rotation angles: {}\".format(params)) #this will print the optimized angles, such that |01>=|10>=0.5"
   ]
  },
  {
   "cell_type": "code",
   "execution_count": 10,
   "metadata": {},
   "outputs": [
    {
     "data": {
      "text/plain": [
       "array([0., 1., 0., 0.])"
      ]
     },
     "execution_count": 10,
     "metadata": {},
     "output_type": "execute_result"
    }
   ],
   "source": [
    "dev = qml.device(\"default.qubit\", wires=2, shots=1, analytic=False)\n",
    "\n",
    "@qml.qnode(dev)\n",
    "def circuit(params):\n",
    "    qml.RX(params[0], wires=0)\n",
    "    qml.RY(params[1], wires=1)\n",
    "    qml.CNOT(wires=[1, 0])\n",
    "    return qml.probs(wires=[0, 1])\n",
    "\n",
    "# execute the QNode using 1 shots\n",
    "result = circuit([3.14159265, 1.5707]) #optimized angles are taken for simulation\n",
    "result\n"
   ]
  },
  {
   "cell_type": "code",
   "execution_count": 11,
   "metadata": {},
   "outputs": [
    {
     "data": {
      "text/plain": [
       "array([0. , 0.4, 0.6, 0. ])"
      ]
     },
     "execution_count": 11,
     "metadata": {},
     "output_type": "execute_result"
    }
   ],
   "source": [
    "# execute the QNode again, now using 10 shot\n",
    "dev.shots = 10\n",
    "result = circuit([3.14159265, 1.5707]) #optimized angles are taken for simulation\n",
    "result"
   ]
  },
  {
   "cell_type": "code",
   "execution_count": 12,
   "metadata": {},
   "outputs": [
    {
     "data": {
      "text/plain": [
       "array([0.  , 0.52, 0.48, 0.  ])"
      ]
     },
     "execution_count": 12,
     "metadata": {},
     "output_type": "execute_result"
    }
   ],
   "source": [
    "# execute the QNode again, now using 100 shot\n",
    "dev.shots = 100\n",
    "result = circuit([3.14159265, 1.5707]) #optimized angles are taken for simulation\n",
    "result"
   ]
  },
  {
   "cell_type": "code",
   "execution_count": 13,
   "metadata": {},
   "outputs": [
    {
     "data": {
      "text/plain": [
       "array([0.  , 0.53, 0.47, 0.  ])"
      ]
     },
     "execution_count": 13,
     "metadata": {},
     "output_type": "execute_result"
    }
   ],
   "source": [
    "# execute the QNode again, now using 1000 shot\n",
    "dev.shots = 1000\n",
    "result = circuit([3.14159265, 1.5707]) #optimized angles are taken for simulation\n",
    "result"
   ]
  },
  {
   "cell_type": "code",
   "execution_count": 14,
   "metadata": {},
   "outputs": [
    {
     "data": {
      "text/plain": [
       "array([0.    , 0.5005, 0.4995, 0.    ])"
      ]
     },
     "execution_count": 14,
     "metadata": {},
     "output_type": "execute_result"
    }
   ],
   "source": [
    "# execute the QNode again, now using 10000 shot\n",
    "dev.shots = 10000\n",
    "result = circuit([3.14159265, 1.5707]) #optimized angles are taken for simulation\n",
    "result"
   ]
  },
  {
   "cell_type": "code",
   "execution_count": 15,
   "metadata": {},
   "outputs": [
    {
     "data": {
      "text/plain": [
       "array([0.     , 0.50182, 0.49818, 0.     ])"
      ]
     },
     "execution_count": 15,
     "metadata": {},
     "output_type": "execute_result"
    }
   ],
   "source": [
    "# execute the QNode again, now using 100000 shot\n",
    "dev.shots = 100000\n",
    "result = circuit([3.14159265, 1.5707]) #optimized angles are taken for simulation\n",
    "result"
   ]
  },
  {
   "cell_type": "code",
   "execution_count": 17,
   "metadata": {},
   "outputs": [
    {
     "data": {
      "text/plain": [
       "array([0.      , 0.500533, 0.499467, 0.      ])"
      ]
     },
     "execution_count": 17,
     "metadata": {},
     "output_type": "execute_result"
    }
   ],
   "source": [
    "# execute the QNode again, now using 1000000 shot\n",
    "dev.shots = 1000000\n",
    "result = circuit([3.14159265, 1.5707])\n",
    "result"
   ]
  },
  {
   "cell_type": "code",
   "execution_count": 20,
   "metadata": {},
   "outputs": [],
   "source": [
    "#It is clear that as the number of shots increases, the accuracy of output increases, such that both |01> and |10> tends to 0.5"
   ]
  },
  {
   "cell_type": "code",
   "execution_count": null,
   "metadata": {},
   "outputs": [],
   "source": []
  }
 ],
 "metadata": {
  "kernelspec": {
   "display_name": "Python 3",
   "language": "python",
   "name": "python3"
  },
  "language_info": {
   "codemirror_mode": {
    "name": "ipython",
    "version": 3
   },
   "file_extension": ".py",
   "mimetype": "text/x-python",
   "name": "python",
   "nbconvert_exporter": "python",
   "pygments_lexer": "ipython3",
   "version": "3.7.6"
  }
 },
 "nbformat": 4,
 "nbformat_minor": 4
}
